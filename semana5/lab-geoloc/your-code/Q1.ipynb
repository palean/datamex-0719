{
 "cells": [
  {
   "cell_type": "markdown",
   "metadata": {},
   "source": [
    "# Q1\n",
    "\n",
    "El primer paso es seleccionar lo datos desde MongoDB, pasarlos a un dataframe, limpiarlos y guardar las seleccion de datos en un archivo json para volver a llevarlos a MongoDB."
   ]
  },
  {
   "cell_type": "code",
   "execution_count": 1,
   "metadata": {},
   "outputs": [],
   "source": [
    "import pymongo\n",
    "from pymongo import MongoClient\n",
    "import pandas as pd\n",
    "import seaborn as sns\n",
    "from pandas.io.json import json_normalize \n",
    "import json"
   ]
  },
  {
   "cell_type": "code",
   "execution_count": 2,
   "metadata": {},
   "outputs": [
    {
     "data": {
      "text/plain": [
       "Database(MongoClient(host=['localhost:27017'], document_class=dict, tz_aware=False, connect=True), 'db_comp')"
      ]
     },
     "execution_count": 2,
     "metadata": {},
     "output_type": "execute_result"
    }
   ],
   "source": [
    "client = MongoClient('mongodb://localhost:27017/')     #connection with mongo\n",
    "db = client.db_comp                               #connection with the database\n",
    "db"
   ]
  },
  {
   "cell_type": "code",
   "execution_count": 3,
   "metadata": {},
   "outputs": [
    {
     "data": {
      "text/plain": [
       "18801"
      ]
     },
     "execution_count": 3,
     "metadata": {},
     "output_type": "execute_result"
    }
   ],
   "source": [
    "#Testing the base data upload\n",
    "len(list(db.comp.find())) #18801 registros"
   ]
  },
  {
   "cell_type": "code",
   "execution_count": 4,
   "metadata": {},
   "outputs": [
    {
     "name": "stdout",
     "output_type": "stream",
     "text": [
      "The number of offices considered are 1416\n"
     ]
    }
   ],
   "source": [
    "# Collecting the relevant data: the startup clients\n",
    "startup_clients = db.comp.find(\n",
    "                                    {'$and':[\n",
    "                                              {'$or':[ #Evaluates one or more expressions and returns true if any of the expressions are true. Otherwise, $or returns false.\n",
    "                                                  {'category_code':'web'},\n",
    "                                                  {'category_code':'software'},\n",
    "                                                  {'category_code':'music'},\n",
    "                                                  {'category_code':'news'},\n",
    "                                                  {'category_code':'ecommerce'},\n",
    "                                                  {'category_code':'photo_video'},\n",
    "                                                  {'category_code':'games_video'},\n",
    "                                                  {'category_code':'advertising'},\n",
    "                                                  {'category_code':'network_hosting'},\n",
    "                                                  {'category_code':'analytics'},\n",
    "                                                  {'category_code':'cleantech'},\n",
    "                                                  {'category_code':'education'},\n",
    "                                                  {'category_code':'sports'},\n",
    "                                                  {'category_code':'biotech'},\n",
    "                                                  {'category_code':'travel'},\n",
    "                                                  {'category_code':'nonprofit'},\n",
    "                                                  {'category_code':'nanotech'}\n",
    "                                              ] # Termina el '$or' \n",
    "                                              },\n",
    "                                        {'number_of_employees':{'$gt':0,'$lte':100}},\n",
    "                                        {'founded_year':{'$gte':2007}},\n",
    "                                        {'offices':{'$ne':[]}}, #$ne selects the documents where the value of the field is not equal to the specified value. This includes documents that do not contain the field.\n",
    "                                        {'offices.latitude':{'$ne':[]}},\n",
    "                                        {'offices.longitude':{'$ne':[]}},\n",
    "                                        {'offices.latitude':{'$ne':None}},\n",
    "                                        {'offices.longitude':{'$ne':None}},\n",
    "                                        {'deadpooled_year':None},\n",
    "                                        {'number_of_employees':{'$ne':None}},\n",
    "                                        {'total_money_raised':{'$ne':None}}\n",
    "                                          ] # Termina el '$and' \n",
    "                                      },\n",
    "                                {'_id':0,'name':1,'number_of_employees':1,'offices':1}\n",
    "                                ).sort('number_of_employees',-1)\n",
    "startup_clients_list = list(startup_clients)\n",
    "\n",
    "# Bd with 1416 registries\n",
    "print(f'The number of offices considered are {len(startup_clients_list)}')"
   ]
  },
  {
   "cell_type": "code",
   "execution_count": 38,
   "metadata": {},
   "outputs": [
    {
     "data": {
      "text/html": [
       "<div>\n",
       "<style scoped>\n",
       "    .dataframe tbody tr th:only-of-type {\n",
       "        vertical-align: middle;\n",
       "    }\n",
       "\n",
       "    .dataframe tbody tr th {\n",
       "        vertical-align: top;\n",
       "    }\n",
       "\n",
       "    .dataframe thead th {\n",
       "        text-align: right;\n",
       "    }\n",
       "</style>\n",
       "<table border=\"1\" class=\"dataframe\">\n",
       "  <thead>\n",
       "    <tr style=\"text-align: right;\">\n",
       "      <th></th>\n",
       "      <th>name</th>\n",
       "      <th>number_of_employees</th>\n",
       "      <th>description</th>\n",
       "      <th>address1</th>\n",
       "      <th>address2</th>\n",
       "      <th>zip_code</th>\n",
       "      <th>city</th>\n",
       "      <th>state_code</th>\n",
       "      <th>country_code</th>\n",
       "      <th>latitude</th>\n",
       "      <th>longitude</th>\n",
       "    </tr>\n",
       "  </thead>\n",
       "  <tbody>\n",
       "    <tr>\n",
       "      <th>0</th>\n",
       "      <td>Social Gaming Network</td>\n",
       "      <td>100</td>\n",
       "      <td>HQ Los Angeles</td>\n",
       "      <td>9570 W. Pico Blvd 3rd Floor</td>\n",
       "      <td></td>\n",
       "      <td>90035</td>\n",
       "      <td>Los Angeles</td>\n",
       "      <td>CA</td>\n",
       "      <td>USA</td>\n",
       "      <td>37.446823</td>\n",
       "      <td>-122.161523</td>\n",
       "    </tr>\n",
       "    <tr>\n",
       "      <th>1</th>\n",
       "      <td>Edmodo</td>\n",
       "      <td>100</td>\n",
       "      <td></td>\n",
       "      <td>60 E. Third Ave., #390</td>\n",
       "      <td></td>\n",
       "      <td>94401</td>\n",
       "      <td>San Mateo</td>\n",
       "      <td>CA</td>\n",
       "      <td>USA</td>\n",
       "      <td>41.857915</td>\n",
       "      <td>-88.321171</td>\n",
       "    </tr>\n",
       "    <tr>\n",
       "      <th>2</th>\n",
       "      <td>plista</td>\n",
       "      <td>100</td>\n",
       "      <td>Headquarter</td>\n",
       "      <td>Torstraße 33-35</td>\n",
       "      <td></td>\n",
       "      <td>10119</td>\n",
       "      <td>Berlin</td>\n",
       "      <td>None</td>\n",
       "      <td>DEU</td>\n",
       "      <td>52.528361</td>\n",
       "      <td>13.412456</td>\n",
       "    </tr>\n",
       "    <tr>\n",
       "      <th>3</th>\n",
       "      <td>FetchBack</td>\n",
       "      <td>100</td>\n",
       "      <td>FetchBack, Inc.</td>\n",
       "      <td>100 W University Drive</td>\n",
       "      <td>Suite 101</td>\n",
       "      <td>85281</td>\n",
       "      <td>Tempe</td>\n",
       "      <td>AZ</td>\n",
       "      <td>USA</td>\n",
       "      <td>33.426418</td>\n",
       "      <td>-111.939600</td>\n",
       "    </tr>\n",
       "    <tr>\n",
       "      <th>4</th>\n",
       "      <td>Trustpilot</td>\n",
       "      <td>100</td>\n",
       "      <td>Copenhagen HQ</td>\n",
       "      <td>Trommesalen 5</td>\n",
       "      <td></td>\n",
       "      <td>1614</td>\n",
       "      <td>Copenhagen V</td>\n",
       "      <td>None</td>\n",
       "      <td>DNK</td>\n",
       "      <td>55.673962</td>\n",
       "      <td>12.560537</td>\n",
       "    </tr>\n",
       "  </tbody>\n",
       "</table>\n",
       "</div>"
      ],
      "text/plain": [
       "                    name  number_of_employees      description  \\\n",
       "0  Social Gaming Network                  100   HQ Los Angeles   \n",
       "1                 Edmodo                  100                    \n",
       "2                 plista                  100      Headquarter   \n",
       "3              FetchBack                  100  FetchBack, Inc.   \n",
       "4             Trustpilot                  100    Copenhagen HQ   \n",
       "\n",
       "                      address1   address2 zip_code          city state_code  \\\n",
       "0  9570 W. Pico Blvd 3rd Floor               90035   Los Angeles         CA   \n",
       "1       60 E. Third Ave., #390               94401     San Mateo         CA   \n",
       "2              Torstraße 33-35               10119        Berlin       None   \n",
       "3       100 W University Drive  Suite 101    85281         Tempe         AZ   \n",
       "4                Trommesalen 5                1614  Copenhagen V       None   \n",
       "\n",
       "  country_code   latitude   longitude  \n",
       "0          USA  37.446823 -122.161523  \n",
       "1          USA  41.857915  -88.321171  \n",
       "2          DEU  52.528361   13.412456  \n",
       "3          USA  33.426418 -111.939600  \n",
       "4          DNK  55.673962   12.560537  "
      ]
     },
     "execution_count": 38,
     "metadata": {},
     "output_type": "execute_result"
    }
   ],
   "source": [
    "#Normalizando los datos de las oficinas\n",
    "#startup_clients_offices = json_normalize(startup_clients_list,'offices')\n",
    "\n",
    "df = pd.DataFrame(startup_clients_list) \n",
    "clean_df = pd.concat([df.drop('offices',axis=1), df.offices.str[0].apply(pd.Series)],axis=1)\n",
    "clean_df.head() # This df has a more complete info"
   ]
  },
  {
   "cell_type": "code",
   "execution_count": 39,
   "metadata": {},
   "outputs": [
    {
     "data": {
      "text/plain": [
       "name                     0\n",
       "number_of_employees      0\n",
       "description            204\n",
       "address1                 7\n",
       "address2                20\n",
       "zip_code                 6\n",
       "city                     3\n",
       "state_code             503\n",
       "country_code             0\n",
       "latitude                 0\n",
       "longitude                0\n",
       "dtype: int64"
      ]
     },
     "execution_count": 39,
     "metadata": {},
     "output_type": "execute_result"
    }
   ],
   "source": [
    "clean_df.isnull().sum()"
   ]
  },
  {
   "cell_type": "code",
   "execution_count": 40,
   "metadata": {},
   "outputs": [
    {
     "data": {
      "text/html": [
       "<div>\n",
       "<style scoped>\n",
       "    .dataframe tbody tr th:only-of-type {\n",
       "        vertical-align: middle;\n",
       "    }\n",
       "\n",
       "    .dataframe tbody tr th {\n",
       "        vertical-align: top;\n",
       "    }\n",
       "\n",
       "    .dataframe thead th {\n",
       "        text-align: right;\n",
       "    }\n",
       "</style>\n",
       "<table border=\"1\" class=\"dataframe\">\n",
       "  <thead>\n",
       "    <tr style=\"text-align: right;\">\n",
       "      <th></th>\n",
       "      <th>name</th>\n",
       "      <th>number_of_employees</th>\n",
       "      <th>description</th>\n",
       "      <th>address1</th>\n",
       "      <th>address2</th>\n",
       "      <th>zip_code</th>\n",
       "      <th>city</th>\n",
       "      <th>state_code</th>\n",
       "      <th>country_code</th>\n",
       "      <th>latitude</th>\n",
       "      <th>longitude</th>\n",
       "      <th>Geolocation</th>\n",
       "    </tr>\n",
       "  </thead>\n",
       "  <tbody>\n",
       "    <tr>\n",
       "      <th>0</th>\n",
       "      <td>Social Gaming Network</td>\n",
       "      <td>100</td>\n",
       "      <td>HQ Los Angeles</td>\n",
       "      <td>9570 W. Pico Blvd 3rd Floor</td>\n",
       "      <td></td>\n",
       "      <td>90035</td>\n",
       "      <td>Los Angeles</td>\n",
       "      <td>CA</td>\n",
       "      <td>USA</td>\n",
       "      <td>37.446823</td>\n",
       "      <td>-122.161523</td>\n",
       "      <td>{'type': 'Point', 'coordinates': [-122.161523,...</td>\n",
       "    </tr>\n",
       "    <tr>\n",
       "      <th>1</th>\n",
       "      <td>Edmodo</td>\n",
       "      <td>100</td>\n",
       "      <td></td>\n",
       "      <td>60 E. Third Ave., #390</td>\n",
       "      <td></td>\n",
       "      <td>94401</td>\n",
       "      <td>San Mateo</td>\n",
       "      <td>CA</td>\n",
       "      <td>USA</td>\n",
       "      <td>41.857915</td>\n",
       "      <td>-88.321171</td>\n",
       "      <td>{'type': 'Point', 'coordinates': [-88.321171, ...</td>\n",
       "    </tr>\n",
       "  </tbody>\n",
       "</table>\n",
       "</div>"
      ],
      "text/plain": [
       "                    name  number_of_employees     description  \\\n",
       "0  Social Gaming Network                  100  HQ Los Angeles   \n",
       "1                 Edmodo                  100                   \n",
       "\n",
       "                      address1 address2 zip_code         city state_code  \\\n",
       "0  9570 W. Pico Blvd 3rd Floor             90035  Los Angeles         CA   \n",
       "1       60 E. Third Ave., #390             94401    San Mateo         CA   \n",
       "\n",
       "  country_code   latitude   longitude  \\\n",
       "0          USA  37.446823 -122.161523   \n",
       "1          USA  41.857915  -88.321171   \n",
       "\n",
       "                                         Geolocation  \n",
       "0  {'type': 'Point', 'coordinates': [-122.161523,...  \n",
       "1  {'type': 'Point', 'coordinates': [-88.321171, ...  "
      ]
     },
     "execution_count": 40,
     "metadata": {},
     "output_type": "execute_result"
    }
   ],
   "source": [
    "#According to the mongo Geolocation documentation, a new column with the long, lat array is created:\n",
    "\n",
    "clean_df['Geolocation'] = clean_df.apply(lambda df:{'type':'Point', 'coordinates':[df.longitude, df.latitude]}, axis=1)\n",
    "clean_df.head(2)"
   ]
  },
  {
   "cell_type": "code",
   "execution_count": 41,
   "metadata": {},
   "outputs": [
    {
     "data": {
      "text/plain": [
       "(1416, 12)"
      ]
     },
     "execution_count": 41,
     "metadata": {},
     "output_type": "execute_result"
    }
   ],
   "source": [
    "clean_df.shape"
   ]
  },
  {
   "cell_type": "code",
   "execution_count": 42,
   "metadata": {},
   "outputs": [],
   "source": [
    "# Dataframe to json\n",
    "clean_df.reset_index().to_json('geop.json', orient='records')"
   ]
  },
  {
   "cell_type": "code",
   "execution_count": null,
   "metadata": {},
   "outputs": [],
   "source": []
  }
 ],
 "metadata": {
  "kernelspec": {
   "display_name": "Python 3",
   "language": "python",
   "name": "python3"
  },
  "language_info": {
   "codemirror_mode": {
    "name": "ipython",
    "version": 3
   },
   "file_extension": ".py",
   "mimetype": "text/x-python",
   "name": "python",
   "nbconvert_exporter": "python",
   "pygments_lexer": "ipython3",
   "version": "3.7.3"
  }
 },
 "nbformat": 4,
 "nbformat_minor": 4
}
