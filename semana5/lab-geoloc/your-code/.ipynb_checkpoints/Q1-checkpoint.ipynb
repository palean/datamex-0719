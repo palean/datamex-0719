{
 "cells": [
  {
   "cell_type": "markdown",
   "metadata": {},
   "source": [
    "# Q1\n",
    "\n",
    "El primer paso es seleccionar lo datos desde MongoDB, pasarlos a un dataframe, limpiarlos y guardar las seleccion de datos en un archivo json para volver a llevarlos a MongoDB."
   ]
  },
  {
   "cell_type": "code",
   "execution_count": 1,
   "metadata": {},
   "outputs": [],
   "source": [
    "import pymongo\n",
    "from pymongo import MongoClient\n",
    "import pandas as pd\n",
    "import seaborn as sns\n",
    "from pandas.io.json import json_normalize \n",
    "import json"
   ]
  },
  {
   "cell_type": "code",
   "execution_count": 2,
   "metadata": {},
   "outputs": [
    {
     "data": {
      "text/plain": [
       "Database(MongoClient(host=['localhost:27017'], document_class=dict, tz_aware=False, connect=True), 'db_comp')"
      ]
     },
     "execution_count": 2,
     "metadata": {},
     "output_type": "execute_result"
    }
   ],
   "source": [
    "client = MongoClient('mongodb://localhost:27017/')     #connection with mongo\n",
    "db = client.db_comp                               #connection with the database\n",
    "db"
   ]
  },
  {
   "cell_type": "code",
   "execution_count": 3,
   "metadata": {},
   "outputs": [
    {
     "data": {
      "text/plain": [
       "18801"
      ]
     },
     "execution_count": 3,
     "metadata": {},
     "output_type": "execute_result"
    }
   ],
   "source": [
    "#Comprobando que haya cargado toda la bd\n",
    "len(list(db.comp.find())) #18801 registros"
   ]
  },
  {
   "cell_type": "code",
   "execution_count": 8,
   "metadata": {},
   "outputs": [],
   "source": [
    "# Collecting the relevant data: the startup clients\n",
    "startup_clients = db.comp.find(\n",
    "                                    {'$and':[\n",
    "                                              {'$or':[ #Evaluates one or more expressions and returns true if any of the expressions are true. Otherwise, $or returns false.\n",
    "                                                  {'category_code':'web'},\n",
    "                                                  {'category_code':'software'},\n",
    "                                                  {'category_code':'music'},\n",
    "                                                  {'category_code':'news'},\n",
    "                                                  {'category_code':'ecommerce'},\n",
    "                                                  {'category_code':'photo_video'},\n",
    "                                                  {'category_code':'games_video'},\n",
    "                                                  {'category_code':'advertising'},\n",
    "                                                  {'category_code':'network_hosting'},\n",
    "                                                  {'category_code':'analytics'},\n",
    "                                                  {'category_code':'cleantech'},\n",
    "                                                  {'category_code':'education'},\n",
    "                                                  {'category_code':'sports'},\n",
    "                                                  {'category_code':'biotech'},\n",
    "                                                  {'category_code':'travel'},\n",
    "                                                  {'category_code':'nonprofit'},\n",
    "                                                  {'category_code':'nanotech'}\n",
    "                                              ] # Termina el '$or' \n",
    "                                              },\n",
    "                                        {'number_of_employees':{'$gt':0,'$lte':100}},\n",
    "                                        {'founded_year':{'$gte':2007}},\n",
    "                                        {'offices':{'$ne':[]}}, #$ne selects the documents where the value of the field is not equal to the specified value. This includes documents that do not contain the field.\n",
    "                                        {'offices.latitude':{'$ne':[]}},\n",
    "                                        {'offices.longitude':{'$ne':[]}},\n",
    "                                        {'offices.latitude':{'$ne':None}},\n",
    "                                        {'offices.longitude':{'$ne':None}},\n",
    "                                        {'deadpooled_year':None},\n",
    "                                        {'number_of_employees':{'$ne':None}},\n",
    "                                        {'total_money_raised':{'$ne':None}}\n",
    "                                          ] # Termina el '$and' \n",
    "                                      },\n",
    "                                {'_id':0,'name':1,'number_of_employees':1,'offices':1}\n",
    "                                ).sort('number_of_employees',-1)\n",
    "startup_clients_list = list(startup_clients)\n",
    "# Base de datos con 1416"
   ]
  },
  {
   "cell_type": "code",
   "execution_count": 9,
   "metadata": {},
   "outputs": [
    {
     "data": {
      "text/html": [
       "<div>\n",
       "<style scoped>\n",
       "    .dataframe tbody tr th:only-of-type {\n",
       "        vertical-align: middle;\n",
       "    }\n",
       "\n",
       "    .dataframe tbody tr th {\n",
       "        vertical-align: top;\n",
       "    }\n",
       "\n",
       "    .dataframe thead th {\n",
       "        text-align: right;\n",
       "    }\n",
       "</style>\n",
       "<table border=\"1\" class=\"dataframe\">\n",
       "  <thead>\n",
       "    <tr style=\"text-align: right;\">\n",
       "      <th></th>\n",
       "      <th>address1</th>\n",
       "      <th>address2</th>\n",
       "      <th>city</th>\n",
       "      <th>country_code</th>\n",
       "      <th>description</th>\n",
       "      <th>latitude</th>\n",
       "      <th>longitude</th>\n",
       "      <th>state_code</th>\n",
       "      <th>zip_code</th>\n",
       "    </tr>\n",
       "  </thead>\n",
       "  <tbody>\n",
       "    <tr>\n",
       "      <th>0</th>\n",
       "      <td>9570 W. Pico Blvd 3rd Floor</td>\n",
       "      <td></td>\n",
       "      <td>Los Angeles</td>\n",
       "      <td>USA</td>\n",
       "      <td>HQ Los Angeles</td>\n",
       "      <td>37.446823</td>\n",
       "      <td>-122.161523</td>\n",
       "      <td>CA</td>\n",
       "      <td>90035</td>\n",
       "    </tr>\n",
       "    <tr>\n",
       "      <th>1</th>\n",
       "      <td>9606 S. Santa Monica Blvd</td>\n",
       "      <td>2nd Floor</td>\n",
       "      <td>Beverly Hills</td>\n",
       "      <td>USA</td>\n",
       "      <td></td>\n",
       "      <td>34.069849</td>\n",
       "      <td>-118.405418</td>\n",
       "      <td>CA</td>\n",
       "      <td>90210</td>\n",
       "    </tr>\n",
       "    <tr>\n",
       "      <th>2</th>\n",
       "      <td>60 E. Third Ave., #390</td>\n",
       "      <td></td>\n",
       "      <td>San Mateo</td>\n",
       "      <td>USA</td>\n",
       "      <td></td>\n",
       "      <td>41.857915</td>\n",
       "      <td>-88.321171</td>\n",
       "      <td>CA</td>\n",
       "      <td>94401</td>\n",
       "    </tr>\n",
       "    <tr>\n",
       "      <th>3</th>\n",
       "      <td>Torstraße 33-35</td>\n",
       "      <td></td>\n",
       "      <td>Berlin</td>\n",
       "      <td>DEU</td>\n",
       "      <td>Headquarter</td>\n",
       "      <td>52.528361</td>\n",
       "      <td>13.412456</td>\n",
       "      <td>None</td>\n",
       "      <td>10119</td>\n",
       "    </tr>\n",
       "    <tr>\n",
       "      <th>4</th>\n",
       "      <td>100 W University Drive</td>\n",
       "      <td>Suite 101</td>\n",
       "      <td>Tempe</td>\n",
       "      <td>USA</td>\n",
       "      <td>FetchBack, Inc.</td>\n",
       "      <td>33.426418</td>\n",
       "      <td>-111.939600</td>\n",
       "      <td>AZ</td>\n",
       "      <td>85281</td>\n",
       "    </tr>\n",
       "  </tbody>\n",
       "</table>\n",
       "</div>"
      ],
      "text/plain": [
       "                      address1   address2           city country_code  \\\n",
       "0  9570 W. Pico Blvd 3rd Floor               Los Angeles          USA   \n",
       "1    9606 S. Santa Monica Blvd  2nd Floor  Beverly Hills          USA   \n",
       "2       60 E. Third Ave., #390                 San Mateo          USA   \n",
       "3              Torstraße 33-35                    Berlin          DEU   \n",
       "4       100 W University Drive  Suite 101          Tempe          USA   \n",
       "\n",
       "       description   latitude   longitude state_code zip_code  \n",
       "0   HQ Los Angeles  37.446823 -122.161523         CA    90035  \n",
       "1                   34.069849 -118.405418         CA    90210  \n",
       "2                   41.857915  -88.321171         CA    94401  \n",
       "3      Headquarter  52.528361   13.412456       None    10119  \n",
       "4  FetchBack, Inc.  33.426418 -111.939600         AZ    85281  "
      ]
     },
     "execution_count": 9,
     "metadata": {},
     "output_type": "execute_result"
    }
   ],
   "source": [
    "#Normalizando los datos de las oficinas\n",
    "startup_clients_offices = json_normalize(startup_clients_list,'offices')\n",
    "startup_clients_offices.head()"
   ]
  },
  {
   "cell_type": "code",
   "execution_count": 10,
   "metadata": {},
   "outputs": [
    {
     "data": {
      "text/plain": [
       "address1          7\n",
       "address2         20\n",
       "city              3\n",
       "country_code      0\n",
       "description     204\n",
       "latitude          0\n",
       "longitude         0\n",
       "state_code      542\n",
       "zip_code          6\n",
       "dtype: int64"
      ]
     },
     "execution_count": 10,
     "metadata": {},
     "output_type": "execute_result"
    }
   ],
   "source": [
    "startup_clients_offices.isnull().sum()"
   ]
  },
  {
   "cell_type": "code",
   "execution_count": 17,
   "metadata": {},
   "outputs": [
    {
     "data": {
      "text/html": [
       "<div>\n",
       "<style scoped>\n",
       "    .dataframe tbody tr th:only-of-type {\n",
       "        vertical-align: middle;\n",
       "    }\n",
       "\n",
       "    .dataframe tbody tr th {\n",
       "        vertical-align: top;\n",
       "    }\n",
       "\n",
       "    .dataframe thead th {\n",
       "        text-align: right;\n",
       "    }\n",
       "</style>\n",
       "<table border=\"1\" class=\"dataframe\">\n",
       "  <thead>\n",
       "    <tr style=\"text-align: right;\">\n",
       "      <th></th>\n",
       "      <th>address1</th>\n",
       "      <th>address2</th>\n",
       "      <th>city</th>\n",
       "      <th>country_code</th>\n",
       "      <th>description</th>\n",
       "      <th>latitude</th>\n",
       "      <th>longitude</th>\n",
       "      <th>state_code</th>\n",
       "      <th>zip_code</th>\n",
       "      <th>Geolocation</th>\n",
       "    </tr>\n",
       "  </thead>\n",
       "  <tbody>\n",
       "    <tr>\n",
       "      <th>0</th>\n",
       "      <td>9570 W. Pico Blvd 3rd Floor</td>\n",
       "      <td></td>\n",
       "      <td>Los Angeles</td>\n",
       "      <td>USA</td>\n",
       "      <td>HQ Los Angeles</td>\n",
       "      <td>37.446823</td>\n",
       "      <td>-122.161523</td>\n",
       "      <td>CA</td>\n",
       "      <td>90035</td>\n",
       "      <td>[-122.161523, 37.446823]</td>\n",
       "    </tr>\n",
       "    <tr>\n",
       "      <th>1</th>\n",
       "      <td>9606 S. Santa Monica Blvd</td>\n",
       "      <td>2nd Floor</td>\n",
       "      <td>Beverly Hills</td>\n",
       "      <td>USA</td>\n",
       "      <td></td>\n",
       "      <td>34.069849</td>\n",
       "      <td>-118.405418</td>\n",
       "      <td>CA</td>\n",
       "      <td>90210</td>\n",
       "      <td>[-118.4054182, 34.0698494]</td>\n",
       "    </tr>\n",
       "  </tbody>\n",
       "</table>\n",
       "</div>"
      ],
      "text/plain": [
       "                      address1   address2           city country_code  \\\n",
       "0  9570 W. Pico Blvd 3rd Floor               Los Angeles          USA   \n",
       "1    9606 S. Santa Monica Blvd  2nd Floor  Beverly Hills          USA   \n",
       "\n",
       "      description   latitude   longitude state_code zip_code  \\\n",
       "0  HQ Los Angeles  37.446823 -122.161523         CA    90035   \n",
       "1                  34.069849 -118.405418         CA    90210   \n",
       "\n",
       "                  Geolocation  \n",
       "0    [-122.161523, 37.446823]  \n",
       "1  [-118.4054182, 34.0698494]  "
      ]
     },
     "execution_count": 17,
     "metadata": {},
     "output_type": "execute_result"
    }
   ],
   "source": [
    "#Haciendo nueva columna de Geolocation con un array del long, lat\n",
    "startup_clients_offices['Geolocation'] = startup_clients_offices.apply(lambda df: [df.longitude, df.latitude], axis=1)\n",
    "startup_clients_offices.head(2)"
   ]
  },
  {
   "cell_type": "code",
   "execution_count": 18,
   "metadata": {},
   "outputs": [],
   "source": [
    "# Dataframe to json\n",
    "startup_clients_offices.to_json('startup_offices.json')"
   ]
  }
 ],
 "metadata": {
  "kernelspec": {
   "display_name": "Python 3",
   "language": "python",
   "name": "python3"
  },
  "language_info": {
   "codemirror_mode": {
    "name": "ipython",
    "version": 3
   },
   "file_extension": ".py",
   "mimetype": "text/x-python",
   "name": "python",
   "nbconvert_exporter": "python",
   "pygments_lexer": "ipython3",
   "version": "3.7.3"
  }
 },
 "nbformat": 4,
 "nbformat_minor": 4
}
